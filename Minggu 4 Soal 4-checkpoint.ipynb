{
 "cells": [
  {
   "cell_type": "code",
   "execution_count": 6,
   "id": "11adae44-c752-4616-84d7-7e722b8eb5a8",
   "metadata": {},
   "outputs": [
    {
     "name": "stdin",
     "output_type": "stream",
     "text": [
      "Masukkan sisi 1:  2\n",
      "Masukkan sisi 2:  2\n",
      "Masukkan sisi 3:  2\n"
     ]
    },
    {
     "name": "stdout",
     "output_type": "stream",
     "text": [
      "3 sisi sama\n"
     ]
    }
   ],
   "source": [
    "def check_triangle_sides():\n",
    "    try:\n",
    "        sisi1 = float(input(\"Masukkan sisi 1: \"))\n",
    "        sisi2 = float(input(\"Masukkan sisi 2: \"))\n",
    "        sisi3 = float(input(\"Masukkan sisi 3: \"))\n",
    "        \n",
    "        if sisi1 <= 0 or sisi2 <= 0 or sisi3 <= 0:\n",
    "            print(\"Input tidak valid. Panjang sisi harus bilangan positif.\")\n",
    "            return\n",
    "        \n",
    "        if sisi1 == sisi2 == sisi3:\n",
    "            print(\"3 sisi sama\")\n",
    "        elif sisi1 == sisi2 or sisi1 == sisi3 or sisi2 == sisi3:\n",
    "            print(\"2 sisi sama\")\n",
    "        else:\n",
    "            print(\"Tidak ada yang sama\")\n",
    "    \n",
    "    except ValueError:\n",
    "        print(\"Input tidak valid. Harap masukkan angka.\")\n",
    "\n",
    "check_triangle_sides()"
   ]
  },
  {
   "cell_type": "code",
   "execution_count": null,
   "id": "0e3d9616-9d19-4de0-a911-9d1a1d45bd79",
   "metadata": {},
   "outputs": [],
   "source": []
  }
 ],
 "metadata": {
  "kernelspec": {
   "display_name": "Python [conda env:base] *",
   "language": "python",
   "name": "conda-base-py"
  },
  "language_info": {
   "codemirror_mode": {
    "name": "ipython",
    "version": 3
   },
   "file_extension": ".py",
   "mimetype": "text/x-python",
   "name": "python",
   "nbconvert_exporter": "python",
   "pygments_lexer": "ipython3",
   "version": "3.12.7"
  }
 },
 "nbformat": 4,
 "nbformat_minor": 5
}
