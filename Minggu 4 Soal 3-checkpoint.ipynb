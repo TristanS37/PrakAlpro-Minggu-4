{
 "cells": [
  {
   "cell_type": "code",
   "execution_count": 1,
   "id": "cc48d8ee-9da9-4942-9e65-d6d85db83294",
   "metadata": {},
   "outputs": [
    {
     "name": "stdin",
     "output_type": "stream",
     "text": [
      "Masukkan bulan (1-12):  7\n"
     ]
    },
    {
     "name": "stdout",
     "output_type": "stream",
     "text": [
      "Jumlah hari: 31\n"
     ]
    }
   ],
   "source": [
    "def jumlah_hari(bulan):\n",
    "    hari_per_bulan = {\n",
    "        1: 31, 2: 29, 3: 31, 4: 30,\n",
    "        5: 31, 6: 30, 7: 31, 8: 31,\n",
    "        9: 30, 10: 31, 11: 30, 12: 31\n",
    "    }\n",
    "    \n",
    "    return hari_per_bulan.get(bulan, \"Bulan tidak valid. Harap masukkan angka antara 1-12.\")\n",
    "\n",
    "try:\n",
    "    bulan = int(input(\"Masukkan bulan (1-12): \"))\n",
    "    print(\"Jumlah hari:\", jumlah_hari(bulan))\n",
    "except ValueError:\n",
    "    print(\"Input tidak valid. Harap masukkan angka antara 1-12.\")"
   ]
  },
  {
   "cell_type": "code",
   "execution_count": null,
   "id": "bfe85941-9e75-41e3-b325-08bbfc5b5b92",
   "metadata": {},
   "outputs": [],
   "source": []
  }
 ],
 "metadata": {
  "kernelspec": {
   "display_name": "Python [conda env:base] *",
   "language": "python",
   "name": "conda-base-py"
  },
  "language_info": {
   "codemirror_mode": {
    "name": "ipython",
    "version": 3
   },
   "file_extension": ".py",
   "mimetype": "text/x-python",
   "name": "python",
   "nbconvert_exporter": "python",
   "pygments_lexer": "ipython3",
   "version": "3.12.7"
  }
 },
 "nbformat": 4,
 "nbformat_minor": 5
}
