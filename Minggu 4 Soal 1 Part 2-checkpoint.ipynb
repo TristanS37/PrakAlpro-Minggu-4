{
 "cells": [
  {
   "cell_type": "code",
   "execution_count": 12,
   "id": "1ea6ea61-9d0a-4601-9861-9070e5d759d9",
   "metadata": {},
   "outputs": [
    {
     "name": "stdin",
     "output_type": "stream",
     "text": [
      "masukan usia anda:  19\n"
     ]
    },
    {
     "name": "stdout",
     "output_type": "stream",
     "text": [
      "Dewasa\n"
     ]
    }
   ],
   "source": [
    "usia = int(input(\"masukan usia anda: \"))\n",
    "\n",
    "if usia >= 60:\n",
    "    print(\"Lansia\")\n",
    "elif usia >= 18:\n",
    "    print(\"Dewasa\")\n",
    "elif usia >= 13:\n",
    "    print(\"Remaja\")\n",
    "elif usia >= 5:\n",
    "    print(\"Kanak-kanak\")\n",
    "else:\n",
    "    print(\"Balita\")"
   ]
  },
  {
   "cell_type": "code",
   "execution_count": null,
   "id": "da4d747f-cf5c-4241-b54d-4cecf30963a3",
   "metadata": {},
   "outputs": [],
   "source": []
  }
 ],
 "metadata": {
  "kernelspec": {
   "display_name": "Python [conda env:base] *",
   "language": "python",
   "name": "conda-base-py"
  },
  "language_info": {
   "codemirror_mode": {
    "name": "ipython",
    "version": 3
   },
   "file_extension": ".py",
   "mimetype": "text/x-python",
   "name": "python",
   "nbconvert_exporter": "python",
   "pygments_lexer": "ipython3",
   "version": "3.12.7"
  }
 },
 "nbformat": 4,
 "nbformat_minor": 5
}
