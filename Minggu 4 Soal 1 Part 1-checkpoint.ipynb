{
 "cells": [
  {
   "cell_type": "code",
   "execution_count": 3,
   "id": "6ec00daa-fd23-471b-893a-50ce933320ae",
   "metadata": {},
   "outputs": [
    {
     "name": "stdout",
     "output_type": "stream",
     "text": [
      "True\n",
      "False\n",
      "True\n"
     ]
    }
   ],
   "source": [
    "pembelian = 100000\n",
    "print (pembelian >= 100000)\n",
    "\n",
    "pembelian = 45000\n",
    "print (pembelian >= 100000)\n",
    "\n",
    "pembelian = 100000\n",
    "print (pembelian >= 100000)"
   ]
  },
  {
   "cell_type": "code",
   "execution_count": null,
   "id": "852dd2ce-a43c-49c0-99c1-536087b0f610",
   "metadata": {},
   "outputs": [],
   "source": []
  }
 ],
 "metadata": {
  "kernelspec": {
   "display_name": "Python [conda env:base] *",
   "language": "python",
   "name": "conda-base-py"
  },
  "language_info": {
   "codemirror_mode": {
    "name": "ipython",
    "version": 3
   },
   "file_extension": ".py",
   "mimetype": "text/x-python",
   "name": "python",
   "nbconvert_exporter": "python",
   "pygments_lexer": "ipython3",
   "version": "3.12.7"
  }
 },
 "nbformat": 4,
 "nbformat_minor": 5
}
