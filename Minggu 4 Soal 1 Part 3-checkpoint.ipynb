{
 "cells": [
  {
   "cell_type": "code",
   "execution_count": 17,
   "id": "6d2613b0-5b1b-48ba-a5a5-3c727b93a7ed",
   "metadata": {},
   "outputs": [
    {
     "name": "stdin",
     "output_type": "stream",
     "text": [
      "Masukkan usia anda:  dua puluh\n"
     ]
    },
    {
     "name": "stdout",
     "output_type": "stream",
     "text": [
      "Anda salah memasukkan input usia\n"
     ]
    }
   ],
   "source": [
    "inputuser = input(\"Masukkan usia anda: \")\n",
    "try:\n",
    "    usia = int(inputuser)\n",
    "    if usia <= 5:\n",
    "        print(\"Balita\")\n",
    "    elif usia >= 6 and usia <= 11:\n",
    "        print(\"Kanak-kanak\")\n",
    "    elif usia >=12 and usia <= 25:\n",
    "        print(\"Remaja\")\n",
    "    elif usia >= 26 and usia <= 45:\n",
    "        print(\"Dewasa\")\n",
    "    elif usia > 45:\n",
    "        print(\"Lansia\")\n",
    "except:\n",
    "    print(\"Anda salah memasukkan input usia\")"
   ]
  },
  {
   "cell_type": "code",
   "execution_count": null,
   "id": "880127a1-ca5a-494c-8426-000c94a467e0",
   "metadata": {},
   "outputs": [],
   "source": []
  }
 ],
 "metadata": {
  "kernelspec": {
   "display_name": "Python [conda env:base] *",
   "language": "python",
   "name": "conda-base-py"
  },
  "language_info": {
   "codemirror_mode": {
    "name": "ipython",
    "version": 3
   },
   "file_extension": ".py",
   "mimetype": "text/x-python",
   "name": "python",
   "nbconvert_exporter": "python",
   "pygments_lexer": "ipython3",
   "version": "3.12.7"
  }
 },
 "nbformat": 4,
 "nbformat_minor": 5
}
